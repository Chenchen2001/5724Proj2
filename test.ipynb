{
 "cells": [
  {
   "cell_type": "code",
   "execution_count": 4,
   "metadata": {},
   "outputs": [],
   "source": [
    "import DataDealer as dd\n",
    "\n",
    "d2r16 = \"https://www.cse.cuhk.edu.hk/~taoyf/course/cmsc5724/24-fall/proj/d2r16n10000\"\n",
    "d4r24 = \"https://www.cse.cuhk.edu.hk/~taoyf/course/cmsc5724/24-fall/proj/d4r24n10000\"\n",
    "d8r12 = \"https://www.cse.cuhk.edu.hk/~taoyf/course/cmsc5724/24-fall/proj/d8r12n10000\"\n",
    "\n",
    "dataIntro, data = dd.readData(d2r16)"
   ]
  },
  {
   "cell_type": "code",
   "execution_count": 6,
   "metadata": {},
   "outputs": [
    {
     "data": {
      "text/plain": [
       "(2.0, 10000.0, 16.0)"
      ]
     },
     "execution_count": 6,
     "metadata": {},
     "output_type": "execute_result"
    }
   ],
   "source": [
    "dim, pts, radius = tuple(dataIntro)\n",
    "dim, pts, radius"
   ]
  },
  {
   "cell_type": "code",
   "execution_count": 8,
   "metadata": {},
   "outputs": [
    {
     "data": {
      "text/plain": [
       "[[-8.459748692855033, 5.621530829461882, -1.0],\n",
       " [4.237208820754372, -6.462792989330957, 1.0],\n",
       " [11.644215057276138, 9.451504823451543, -1.0],\n",
       " [12.66037789730385, -3.6062685957325904, 1.0],\n",
       " [-1.541170965243893, 6.006627796962686, -1.0],\n",
       " [-11.037541660520073, -10.851422329290532, 1.0],\n",
       " [6.933420000096714, 8.241308200627177, -1.0],\n",
       " [-12.315627719921174, 5.294380892020271, -1.0],\n",
       " [-4.410876977672924, -7.943414051961902, 1.0],\n",
       " [-12.251354422217847, 8.496679325233096, -1.0]]"
      ]
     },
     "execution_count": 8,
     "metadata": {},
     "output_type": "execute_result"
    }
   ],
   "source": [
    "data[:10]"
   ]
  }
 ],
 "metadata": {
  "kernelspec": {
   "display_name": "Python 3",
   "language": "python",
   "name": "python3"
  },
  "language_info": {
   "codemirror_mode": {
    "name": "ipython",
    "version": 3
   },
   "file_extension": ".py",
   "mimetype": "text/x-python",
   "name": "python",
   "nbconvert_exporter": "python",
   "pygments_lexer": "ipython3",
   "version": "3.10.0"
  }
 },
 "nbformat": 4,
 "nbformat_minor": 2
}
