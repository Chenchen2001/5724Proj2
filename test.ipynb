{
 "cells": [
  {
   "cell_type": "code",
   "execution_count": null,
   "metadata": {},
   "outputs": [],
   "source": [
    "import DataDealer as dd\n",
    "\n",
    "d2r16 = \"https://www.cse.cuhk.edu.hk/~taoyf/course/cmsc5724/24-fall/proj/d2r16n10000\"\n",
    "d4r24 = \"https://www.cse.cuhk.edu.hk/~taoyf/course/cmsc5724/24-fall/proj/d4r24n10000\"\n",
    "d8r12 = \"https://www.cse.cuhk.edu.hk/~taoyf/course/cmsc5724/24-fall/proj/d8r12n10000\"\n",
    "\n",
    "dataIntro, data = dd.readData(d8r12)\n",
    "dataIntro, data"
   ]
  }
 ],
 "metadata": {
  "kernelspec": {
   "display_name": "Python 3",
   "language": "python",
   "name": "python3"
  },
  "language_info": {
   "codemirror_mode": {
    "name": "ipython",
    "version": 3
   },
   "file_extension": ".py",
   "mimetype": "text/x-python",
   "name": "python",
   "nbconvert_exporter": "python",
   "pygments_lexer": "ipython3",
   "version": "3.10.0"
  }
 },
 "nbformat": 4,
 "nbformat_minor": 2
}
