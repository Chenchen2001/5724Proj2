{
 "cells": [
  {
   "cell_type": "code",
   "execution_count": 1,
   "metadata": {},
   "outputs": [],
   "source": [
    "import DataDealer as DD\n",
    "from MarginPerceptron import MarginPerceptron as MP\n",
    "\n",
    "baseUrl = \"https://www.cse.cuhk.edu.hk/~taoyf/course/cmsc5724/24-fall/proj/\"\n",
    "d2r16 = \"d2r16n10000\"\n",
    "d4r24 = \"d4r24n10000\"\n",
    "d8r12 = \"d8r12n10000\"\n",
    "\n",
    "useDataset = d2r16\n",
    "\n",
    "dataIntro, data = DD.readData(baseUrl+useDataset)"
   ]
  },
  {
   "cell_type": "code",
   "execution_count": 2,
   "metadata": {},
   "outputs": [
    {
     "data": {
      "text/plain": [
       "(2.0, 10000.0, 16.0)"
      ]
     },
     "execution_count": 2,
     "metadata": {},
     "output_type": "execute_result"
    }
   ],
   "source": [
    "dim, pts, radius = tuple(dataIntro)\n",
    "dim, pts, radius"
   ]
  },
  {
   "cell_type": "code",
   "execution_count": 3,
   "metadata": {},
   "outputs": [
    {
     "data": {
      "text/plain": [
       "[[-8.459748692855033, 5.621530829461882, -1.0],\n",
       " [4.237208820754372, -6.462792989330957, 1.0],\n",
       " [11.644215057276138, 9.451504823451543, -1.0]]"
      ]
     },
     "execution_count": 3,
     "metadata": {},
     "output_type": "execute_result"
    }
   ],
   "source": [
    "data[:3]"
   ]
  },
  {
   "cell_type": "code",
   "execution_count": 4,
   "metadata": {},
   "outputs": [
    {
     "name": "stdout",
     "output_type": "stream",
     "text": [
      "Converged after 2 epochs.\n"
     ]
    }
   ],
   "source": [
    "perceptron = MP(dimension=int(dim), margin_threshold=1.0, epochs=200)\n",
    "perceptron.train(data)"
   ]
  },
  {
   "cell_type": "code",
   "execution_count": 5,
   "metadata": {},
   "outputs": [
    {
     "name": "stdout",
     "output_type": "stream",
     "text": [
      "Margin for dataset d2r16: 25.29182224639059\n"
     ]
    }
   ],
   "source": [
    "# Calculate and print the margin\n",
    "margin = perceptron.calculate_margin(data)\n",
    "print(f\"Margin for dataset {useDataset.split('n')[0]}: {margin}\")"
   ]
  },
  {
   "cell_type": "code",
   "execution_count": 6,
   "metadata": {},
   "outputs": [
    {
     "data": {
      "text/plain": [
       "[-1.2492616845239475, -23.057382997719813]"
      ]
     },
     "execution_count": 6,
     "metadata": {},
     "output_type": "execute_result"
    }
   ],
   "source": [
    "perceptron.get_params(\"w\")"
   ]
  },
  {
   "cell_type": "code",
   "execution_count": 7,
   "metadata": {},
   "outputs": [
    {
     "data": {
      "text/plain": [
       "-2.0"
      ]
     },
     "execution_count": 7,
     "metadata": {},
     "output_type": "execute_result"
    }
   ],
   "source": [
    "perceptron.get_params(\"b\")"
   ]
  },
  {
   "cell_type": "code",
   "execution_count": null,
   "metadata": {},
   "outputs": [],
   "source": []
  }
 ],
 "metadata": {
  "kernelspec": {
   "display_name": "Python 3",
   "language": "python",
   "name": "python3"
  },
  "language_info": {
   "codemirror_mode": {
    "name": "ipython",
    "version": 3
   },
   "file_extension": ".py",
   "mimetype": "text/x-python",
   "name": "python",
   "nbconvert_exporter": "python",
   "pygments_lexer": "ipython3",
   "version": "3.10.0"
  }
 },
 "nbformat": 4,
 "nbformat_minor": 2
}
