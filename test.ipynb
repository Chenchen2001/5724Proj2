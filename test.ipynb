{
 "cells": [
  {
   "cell_type": "code",
   "execution_count": null,
   "metadata": {},
   "outputs": [],
   "source": [
    "import DataDealer as DD\n",
    "from MarginPerceptron import MarginPerceptron as MP\n",
    "import math\n",
    "# from MPGPT import MarginPerceptron as MP\n",
    "\n",
    "baseUrl = \"https://www.cse.cuhk.edu.hk/~taoyf/course/cmsc5724/24-fall/proj/\"\n",
    "d2r16 = \"d2r16n10000\"\n",
    "d4r24 = \"d4r24n10000\"\n",
    "d8r12 = \"d8r12n10000\"\n",
    "\n",
    "useDataset = d4r24\n",
    "\n",
    "dataIntro, data = DD.readData(baseUrl+useDataset)\n",
    "dim, pts, radius = tuple(dataIntro)"
   ]
  },
  {
   "cell_type": "code",
   "execution_count": 4,
   "metadata": {},
   "outputs": [
    {
     "name": "stdout",
     "output_type": "stream",
     "text": [
      "update, subtract\n",
      "update, add\n",
      "update, subtract\n",
      "In the iter 0/12, executed 3 updates.\n",
      "In the iter 1/12, executed 0 updates.\n",
      "Converged with gamma_guess = 23.99981823002204.\n"
     ]
    }
   ],
   "source": [
    "perceptron = MP(dataIntro, data)\n",
    "perceptron.train()"
   ]
  },
  {
   "cell_type": "code",
   "execution_count": 5,
   "metadata": {},
   "outputs": [
    {
     "name": "stdout",
     "output_type": "stream",
     "text": [
      "Margin for dataset d4r24: 60.91376623441607\n"
     ]
    }
   ],
   "source": [
    "# Calculate and print the margin\n",
    "margin = perceptron.calculate_margin()\n",
    "print(f\"Margin for dataset {useDataset.split('n')[0]}: {margin}\")"
   ]
  },
  {
   "cell_type": "code",
   "execution_count": null,
   "metadata": {},
   "outputs": [
    {
     "data": {
      "text/plain": [
       "[3.6714999246525224,\n",
       " -10.539628788556268,\n",
       " -18.57373772833286,\n",
       " 23.238058343753508]"
      ]
     },
     "execution_count": 6,
     "metadata": {},
     "output_type": "execute_result"
    }
   ],
   "source": [
    "perceptron.get_weights()"
   ]
  },
  {
   "cell_type": "code",
   "execution_count": 9,
   "metadata": {},
   "outputs": [
    {
     "data": {
      "text/plain": [
       "(7.947871239264377, 23.99981823002204)"
      ]
     },
     "execution_count": 9,
     "metadata": {},
     "output_type": "execute_result"
    }
   ],
   "source": [
    "t = [math.sqrt(sum([element**2 for element in line[:-1]])) for line in data]\n",
    "min(t), max(t)"
   ]
  }
 ],
 "metadata": {
  "kernelspec": {
   "display_name": "Python 3",
   "language": "python",
   "name": "python3"
  },
  "language_info": {
   "codemirror_mode": {
    "name": "ipython",
    "version": 3
   },
   "file_extension": ".py",
   "mimetype": "text/x-python",
   "name": "python",
   "nbconvert_exporter": "python",
   "pygments_lexer": "ipython3",
   "version": "3.10.0"
  }
 },
 "nbformat": 4,
 "nbformat_minor": 2
}
